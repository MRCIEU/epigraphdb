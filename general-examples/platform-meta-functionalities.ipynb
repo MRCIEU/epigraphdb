{
 "cells": [
  {
   "cell_type": "markdown",
   "id": "pursuant-separate",
   "metadata": {
    "papermill": {
     "duration": 0.024645,
     "end_time": "2021-03-11T21:57:16.007444",
     "exception": false,
     "start_time": "2021-03-11T21:57:15.982799",
     "status": "completed"
    },
    "tags": []
   },
   "source": [
    "# Meta functionalities of the EpiGraphDB platform"
   ]
  },
  {
   "cell_type": "markdown",
   "id": "written-decade",
   "metadata": {
    "papermill": {
     "duration": 0.023609,
     "end_time": "2021-03-11T21:57:16.055084",
     "exception": false,
     "start_time": "2021-03-11T21:57:16.031475",
     "status": "completed"
    },
    "tags": []
   },
   "source": [
    "In this notebook we show the following aspects of the EpiGraphDB platform, and how to use the API to get the information:\n",
    "\n",
    "1. Metadata: meta nodes and meta edges, and the overall schema.\n",
    "2. Search for a specific node under the meta node.\n",
    "3. Cypher: how to query the database directly using Neo4j Cypher\n",
    "\n",
    "For detailed documentation on the API endpoints please visit:\n",
    "\n",
    "- The Swagger interface: http://api.epigraphdb.org\n",
    "- The sections regarding API endpoints on the documentation site: http://docs.epigraphdb.org/api/api-endpoints/"
   ]
  },
  {
   "cell_type": "code",
   "execution_count": 1,
   "id": "united-valve",
   "metadata": {
    "execution": {
     "iopub.execute_input": "2021-03-11T21:57:16.089638Z",
     "iopub.status.busy": "2021-03-11T21:57:16.089289Z",
     "iopub.status.idle": "2021-03-11T21:57:16.457828Z",
     "shell.execute_reply": "2021-03-11T21:57:16.457156Z"
    },
    "papermill": {
     "duration": 0.384942,
     "end_time": "2021-03-11T21:57:16.457979",
     "exception": false,
     "start_time": "2021-03-11T21:57:16.073037",
     "status": "completed"
    },
    "tags": []
   },
   "outputs": [],
   "source": [
    "from pprint import pformat\n",
    "\n",
    "import networkx as nx\n",
    "import pandas as pd\n",
    "import requests"
   ]
  },
  {
   "cell_type": "code",
   "execution_count": 2,
   "id": "narrative-smell",
   "metadata": {
    "execution": {
     "iopub.execute_input": "2021-03-11T21:57:16.487328Z",
     "iopub.status.busy": "2021-03-11T21:57:16.486981Z",
     "iopub.status.idle": "2021-03-11T21:57:16.489239Z",
     "shell.execute_reply": "2021-03-11T21:57:16.488782Z"
    },
    "papermill": {
     "duration": 0.016784,
     "end_time": "2021-03-11T21:57:16.489330",
     "exception": false,
     "start_time": "2021-03-11T21:57:16.472546",
     "status": "completed"
    },
    "tags": [
     "parameters"
    ]
   },
   "outputs": [],
   "source": [
    "# default parameters\n",
    "API_URL = \"https://api.epigraphdb.org\""
   ]
  },
  {
   "cell_type": "code",
   "execution_count": 3,
   "id": "invalid-chess",
   "metadata": {
    "execution": {
     "iopub.execute_input": "2021-03-11T21:57:16.524290Z",
     "iopub.status.busy": "2021-03-11T21:57:16.523825Z",
     "iopub.status.idle": "2021-03-11T21:57:16.525605Z",
     "shell.execute_reply": "2021-03-11T21:57:16.526013Z"
    },
    "papermill": {
     "duration": 0.020489,
     "end_time": "2021-03-11T21:57:16.526123",
     "exception": false,
     "start_time": "2021-03-11T21:57:16.505634",
     "status": "completed"
    },
    "tags": [
     "injected-parameters"
    ]
   },
   "outputs": [],
   "source": [
    "# Parameters\n",
    "API_URL = \"http://dev-api.epigraphdb.org\""
   ]
  },
  {
   "cell_type": "code",
   "execution_count": 4,
   "id": "rocky-spider",
   "metadata": {
    "execution": {
     "iopub.execute_input": "2021-03-11T21:57:16.559502Z",
     "iopub.status.busy": "2021-03-11T21:57:16.559160Z",
     "iopub.status.idle": "2021-03-11T21:57:16.648551Z",
     "shell.execute_reply": "2021-03-11T21:57:16.648025Z"
    },
    "papermill": {
     "duration": 0.106095,
     "end_time": "2021-03-11T21:57:16.648686",
     "exception": false,
     "start_time": "2021-03-11T21:57:16.542591",
     "status": "completed"
    },
    "tags": []
   },
   "outputs": [
    {
     "name": "stdout",
     "output_type": "stream",
     "text": [
      "http://dev-api.epigraphdb.org\n"
     ]
    },
    {
     "data": {
      "text/plain": [
       "True"
      ]
     },
     "execution_count": 4,
     "metadata": {},
     "output_type": "execute_result"
    }
   ],
   "source": [
    "print(API_URL)\n",
    "requests.get(f\"{API_URL}/ping\").json()"
   ]
  },
  {
   "cell_type": "markdown",
   "id": "verbal-missile",
   "metadata": {
    "papermill": {
     "duration": 0.024608,
     "end_time": "2021-03-11T21:57:16.698304",
     "exception": false,
     "start_time": "2021-03-11T21:57:16.673696",
     "status": "completed"
    },
    "tags": []
   },
   "source": [
    "## Metadata"
   ]
  },
  {
   "cell_type": "markdown",
   "id": "subsequent-helping",
   "metadata": {
    "papermill": {
     "duration": 0.013103,
     "end_time": "2021-03-11T21:57:16.735307",
     "exception": false,
     "start_time": "2021-03-11T21:57:16.722204",
     "status": "completed"
    },
    "tags": []
   },
   "source": [
    "Here we query for the metadata information using the endpoint `GET /meta/schema`, which will be used for downstream processing."
   ]
  },
  {
   "cell_type": "code",
   "execution_count": 5,
   "id": "royal-mason",
   "metadata": {
    "execution": {
     "iopub.execute_input": "2021-03-11T21:57:16.766504Z",
     "iopub.status.busy": "2021-03-11T21:57:16.764794Z",
     "iopub.status.idle": "2021-03-11T21:57:16.888832Z",
     "shell.execute_reply": "2021-03-11T21:57:16.889235Z"
    },
    "papermill": {
     "duration": 0.14127,
     "end_time": "2021-03-11T21:57:16.889354",
     "exception": false,
     "start_time": "2021-03-11T21:57:16.748084",
     "status": "completed"
    },
    "tags": []
   },
   "outputs": [
    {
     "name": "stdout",
     "output_type": "stream",
     "text": [
      "dict_keys(['nodes', 'edges', 'connections']) \n",
      "\n",
      "# nodes:\n",
      "{'Disease': {'count': 38960,\n",
      "             'properties': {'_id': {'indexed': True,\n",
      "                                    'type': 'STRING',\n",
      "                                    'unique': False},\n",
      "                            '_name': {'indexed': True,\n",
      "                                      'type': 'STRING',\n",
      "                                      'unique': False},\n",
      "                            '_source': {'indexed': False,\n",
      "                                        'type': 'LIST',\n",
      "                                        'unique': False},\n",
      "                            'definition': {'indexed': False,\n",
      "                                           'type': 'STRING',\n",
      "                                           'unique': False},\n",
      "                            'doid': {'indexed': True,\n",
      "                                     'type': 'LIST',\n",
      "                                     'unique': False},\n",
      "                            'efo': {'indexed': False,\n",
      "                                    'type': 'LIST',\n",
      "                     \n",
      "\n",
      "# edges:\n",
      "{'BIORXIV_OBJ': {'count': 32651,\n",
      "                 'properties': {'_source': {'array': True, 'type': 'LIST'}}},\n",
      " 'BIORXIV_PREDICATE': {'count': 32648,\n",
      "                       'properties': {'_source': {'array': True,\n",
      "                                                  'type': 'LIST'},\n",
      "                                      'count': {'array': False,\n",
      "                                                'type': 'INTEGER'},\n",
      "                                      'predicate': {'array': False,\n",
      "                                                    'type': 'STRING'}}},\n",
      " 'BIORXIV_SUB': {'count': 32657,\n",
      "                 'properties': {'_source': {'array': True, 'type': 'LIST'}}},\n",
      " 'BIORXIV_TO_LIT': {'count': 35211,\n",
      "                    'properties': {'_source': {'array': True, 'type': 'LIST'}}},\n",
      " 'CPIC': {'count': 375,\n",
      "          'properties': {'_source': {'array': True, 'type': 'LIST'},\n",
      "                         'cpic_level': {'array': False, 'type': 'STRING'},\n",
      "                         'guideline': {'array': F \n",
      "\n",
      "# connections:\n",
      "[{'count': 2461,\n",
      "  'from_node': 'Drug',\n",
      "  'rel': 'OPENTARGETS_DRUG_TO_DISEASE',\n",
      "  'to_node': 'Disease'},\n",
      " {'count': 5763,\n",
      "  'from_node': 'Gene',\n",
      "  'rel': 'GENE_TO_DISEASE',\n",
      "  'to_node': 'Disease'},\n",
      " {'count': 8247,\n",
      "  'from_node': 'Disease',\n",
      "  'rel': 'MONDO_MAP_UMLS',\n",
      "  'to_node': 'LiteratureTerm'},\n",
      " {'count': 2819,\n",
      "  'from_node': 'Disease',\n",
      "  'rel': 'MONDO_MAP_EFO',\n",
      "  'to_node': 'Efo'},\n",
      " {'count': 2463,\n",
      "  'from_node': 'Pathway',\n",
      "  'rel': 'PATHWAY_CHILD_OF',\n",
      "  'to_node': 'Pathway'},\n",
      " {'count': 121873,\n",
      "  'from_node': 'Protein',\n",
      "  'rel': 'PROTEIN_IN_PATHWAY',\n",
      "  'to_node': 'Pathway'},\n",
      " {'count': 1969,\n",
      "  'from_node': 'LiteratureTriple',\n",
      "  'rel': 'MEDRXIV_SUB',\n",
      "  'to_node': 'LiteratureTerm'},\n",
      " {'count': 5584547,\n",
      "  'from_node': 'LiteratureTerm',\n",
      "  'rel': 'SEMMEDDB_PREDICATE',\n",
      "  'to_node': 'LiteratureTerm'},\n",
      " {'count': 5584547,\n",
      "  'from_node': 'LiteratureTriple',\n",
      "  'rel': 'SEMMEDDB_SUB',\n",
      "  'to_node': 'LiteratureTerm'},\n",
      " {'count': 5556,\n",
      "  'from_node': 'Gwas',\n",
      "  'rel': 'METAMAP_LITE',\n",
      "  'to_node' \n",
      "\n"
     ]
    }
   ],
   "source": [
    "endpoint = \"/meta/schema\"\n",
    "params = {\"graphviz\": False, \"plot\": False}\n",
    "r = requests.get(f\"{API_URL}{endpoint}\", params=params)\n",
    "r.raise_for_status()\n",
    "metadata = r.json()\n",
    "\n",
    "# Preview of metadata information\n",
    "keys = metadata.keys()\n",
    "print(pformat(keys), \"\\n\")\n",
    "for key in list(keys):\n",
    "    print(f\"# {key}:\")\n",
    "    print(pformat(metadata[key])[:1000], \"\\n\")"
   ]
  },
  {
   "cell_type": "markdown",
   "id": "floral-extension",
   "metadata": {
    "papermill": {
     "duration": 0.017355,
     "end_time": "2021-03-11T21:57:16.924366",
     "exception": false,
     "start_time": "2021-03-11T21:57:16.907011",
     "status": "completed"
    },
    "tags": []
   },
   "source": [
    "### Meta nodes\n",
    "\n",
    "We can extract the specific meta node information as a pandas dataframe from the metadata."
   ]
  },
  {
   "cell_type": "code",
   "execution_count": 6,
   "id": "filled-blood",
   "metadata": {
    "execution": {
     "iopub.execute_input": "2021-03-11T21:57:16.989973Z",
     "iopub.status.busy": "2021-03-11T21:57:16.974650Z",
     "iopub.status.idle": "2021-03-11T21:57:17.030931Z",
     "shell.execute_reply": "2021-03-11T21:57:17.031291Z"
    },
    "papermill": {
     "duration": 0.089825,
     "end_time": "2021-03-11T21:57:17.031404",
     "exception": false,
     "start_time": "2021-03-11T21:57:16.941579",
     "status": "completed"
    },
    "tags": []
   },
   "outputs": [
    {
     "data": {
      "text/html": [
       "<div>\n",
       "<style scoped>\n",
       "    .dataframe tbody tr th:only-of-type {\n",
       "        vertical-align: middle;\n",
       "    }\n",
       "\n",
       "    .dataframe tbody tr th {\n",
       "        vertical-align: top;\n",
       "    }\n",
       "\n",
       "    .dataframe thead th {\n",
       "        text-align: right;\n",
       "    }\n",
       "</style>\n",
       "<table border=\"1\" class=\"dataframe\">\n",
       "  <thead>\n",
       "    <tr style=\"text-align: right;\">\n",
       "      <th></th>\n",
       "      <th>count</th>\n",
       "      <th>properties</th>\n",
       "    </tr>\n",
       "  </thead>\n",
       "  <tbody>\n",
       "    <tr>\n",
       "      <th>Disease</th>\n",
       "      <td>38,960</td>\n",
       "      <td>{'_name': {'type': 'STRING', 'indexed': True, ...</td>\n",
       "    </tr>\n",
       "    <tr>\n",
       "      <th>Drug</th>\n",
       "      <td>2,697</td>\n",
       "      <td>{'molecule_type': {'type': 'STRING', 'indexed'...</td>\n",
       "    </tr>\n",
       "    <tr>\n",
       "      <th>Efo</th>\n",
       "      <td>25,390</td>\n",
       "      <td>{'_name': {'type': 'STRING', 'indexed': True, ...</td>\n",
       "    </tr>\n",
       "    <tr>\n",
       "      <th>Gene</th>\n",
       "      <td>57,737</td>\n",
       "      <td>{'druggability_tier': {'type': 'STRING', 'inde...</td>\n",
       "    </tr>\n",
       "    <tr>\n",
       "      <th>Gwas</th>\n",
       "      <td>34,494</td>\n",
       "      <td>{'note': {'type': 'STRING', 'indexed': False, ...</td>\n",
       "    </tr>\n",
       "    <tr>\n",
       "      <th>Literature</th>\n",
       "      <td>3,995,672</td>\n",
       "      <td>{'issn': {'type': 'STRING', 'indexed': False, ...</td>\n",
       "    </tr>\n",
       "    <tr>\n",
       "      <th>LiteratureTerm</th>\n",
       "      <td>108,905</td>\n",
       "      <td>{'_name': {'type': 'STRING', 'indexed': True, ...</td>\n",
       "    </tr>\n",
       "    <tr>\n",
       "      <th>LiteratureTriple</th>\n",
       "      <td>5,609,945</td>\n",
       "      <td>{'subject_id': {'type': 'STRING', 'indexed': T...</td>\n",
       "    </tr>\n",
       "    <tr>\n",
       "      <th>Pathway</th>\n",
       "      <td>2,441</td>\n",
       "      <td>{'_name': {'type': 'STRING', 'indexed': True, ...</td>\n",
       "    </tr>\n",
       "    <tr>\n",
       "      <th>Protein</th>\n",
       "      <td>20,280</td>\n",
       "      <td>{'name': {'type': 'STRING', 'indexed': True, '...</td>\n",
       "    </tr>\n",
       "    <tr>\n",
       "      <th>Tissue</th>\n",
       "      <td>54</td>\n",
       "      <td>{'name': {'type': 'STRING', 'indexed': True, '...</td>\n",
       "    </tr>\n",
       "    <tr>\n",
       "      <th>Variant</th>\n",
       "      <td>99,005</td>\n",
       "      <td>{'ref': {'type': 'STRING', 'indexed': False, '...</td>\n",
       "    </tr>\n",
       "  </tbody>\n",
       "</table>\n",
       "</div>"
      ],
      "text/plain": [
       "                      count                                         properties\n",
       "Disease              38,960  {'_name': {'type': 'STRING', 'indexed': True, ...\n",
       "Drug                  2,697  {'molecule_type': {'type': 'STRING', 'indexed'...\n",
       "Efo                  25,390  {'_name': {'type': 'STRING', 'indexed': True, ...\n",
       "Gene                 57,737  {'druggability_tier': {'type': 'STRING', 'inde...\n",
       "Gwas                 34,494  {'note': {'type': 'STRING', 'indexed': False, ...\n",
       "Literature        3,995,672  {'issn': {'type': 'STRING', 'indexed': False, ...\n",
       "LiteratureTerm      108,905  {'_name': {'type': 'STRING', 'indexed': True, ...\n",
       "LiteratureTriple  5,609,945  {'subject_id': {'type': 'STRING', 'indexed': T...\n",
       "Pathway               2,441  {'_name': {'type': 'STRING', 'indexed': True, ...\n",
       "Protein              20,280  {'name': {'type': 'STRING', 'indexed': True, '...\n",
       "Tissue                   54  {'name': {'type': 'STRING', 'indexed': True, '...\n",
       "Variant              99,005  {'ref': {'type': 'STRING', 'indexed': False, '..."
      ]
     },
     "execution_count": 6,
     "metadata": {},
     "output_type": "execute_result"
    }
   ],
   "source": [
    "meta_node_df = pd.DataFrame.from_dict(metadata[\"nodes\"], orient=\"index\")\n",
    "\n",
    "(\n",
    "    meta_node_df.sort_index().assign(\n",
    "        count=lambda df: df[\"count\"].apply(lambda x: f\"{x:,}\")\n",
    "    )\n",
    ")"
   ]
  },
  {
   "cell_type": "markdown",
   "id": "casual-demonstration",
   "metadata": {
    "papermill": {
     "duration": 0.025678,
     "end_time": "2021-03-11T21:57:17.082262",
     "exception": false,
     "start_time": "2021-03-11T21:57:17.056584",
     "status": "completed"
    },
    "tags": []
   },
   "source": [
    "### Meta relationships and connections\n",
    "\n",
    "We can also extract the meta relationship (edge) information, and the connections."
   ]
  },
  {
   "cell_type": "code",
   "execution_count": 7,
   "id": "separate-reflection",
   "metadata": {
    "execution": {
     "iopub.execute_input": "2021-03-11T21:57:17.131326Z",
     "iopub.status.busy": "2021-03-11T21:57:17.127498Z",
     "iopub.status.idle": "2021-03-11T21:57:17.211456Z",
     "shell.execute_reply": "2021-03-11T21:57:17.210898Z"
    },
    "papermill": {
     "duration": 0.106136,
     "end_time": "2021-03-11T21:57:17.211591",
     "exception": false,
     "start_time": "2021-03-11T21:57:17.105455",
     "status": "completed"
    },
    "tags": []
   },
   "outputs": [
    {
     "data": {
      "text/html": [
       "<div>\n",
       "<style scoped>\n",
       "    .dataframe tbody tr th:only-of-type {\n",
       "        vertical-align: middle;\n",
       "    }\n",
       "\n",
       "    .dataframe tbody tr th {\n",
       "        vertical-align: top;\n",
       "    }\n",
       "\n",
       "    .dataframe thead th {\n",
       "        text-align: right;\n",
       "    }\n",
       "</style>\n",
       "<table border=\"1\" class=\"dataframe\">\n",
       "  <thead>\n",
       "    <tr style=\"text-align: right;\">\n",
       "      <th></th>\n",
       "      <th>count</th>\n",
       "      <th>properties</th>\n",
       "      <th>from_node</th>\n",
       "      <th>to_node</th>\n",
       "    </tr>\n",
       "  </thead>\n",
       "  <tbody>\n",
       "    <tr>\n",
       "      <th>MONDO_MAP_EFO</th>\n",
       "      <td>2,819</td>\n",
       "      <td>{'_source': {'array': False, 'type': 'STRING'}}</td>\n",
       "      <td>Disease</td>\n",
       "      <td>Efo</td>\n",
       "    </tr>\n",
       "    <tr>\n",
       "      <th>MONDO_MAP_UMLS</th>\n",
       "      <td>8,247</td>\n",
       "      <td>{'_source': {'array': False, 'type': 'STRING'}}</td>\n",
       "      <td>Disease</td>\n",
       "      <td>LiteratureTerm</td>\n",
       "    </tr>\n",
       "    <tr>\n",
       "      <th>OPENTARGETS_DRUG_TO_DISEASE</th>\n",
       "      <td>2,461</td>\n",
       "      <td>{'_source': {'array': True, 'type': 'LIST'}}</td>\n",
       "      <td>Drug</td>\n",
       "      <td>Disease</td>\n",
       "    </tr>\n",
       "    <tr>\n",
       "      <th>CPIC</th>\n",
       "      <td>375</td>\n",
       "      <td>{'pharmgkb_level_of_evidence': {'array': False...</td>\n",
       "      <td>Drug</td>\n",
       "      <td>Gene</td>\n",
       "    </tr>\n",
       "    <tr>\n",
       "      <th>OPENTARGETS_DRUG_TO_TARGET</th>\n",
       "      <td>6,534</td>\n",
       "      <td>{'phase': {'array': False, 'type': 'STRING'}, ...</td>\n",
       "      <td>Drug</td>\n",
       "      <td>Gene</td>\n",
       "    </tr>\n",
       "    <tr>\n",
       "      <th>EFO_CHILD_OF</th>\n",
       "      <td>43,132</td>\n",
       "      <td>{'_source': {'array': True, 'type': 'LIST'}}</td>\n",
       "      <td>Efo</td>\n",
       "      <td>Efo</td>\n",
       "    </tr>\n",
       "    <tr>\n",
       "      <th>GENE_TO_DISEASE</th>\n",
       "      <td>5,763</td>\n",
       "      <td>{'last_updated': {'array': False, 'type': 'STR...</td>\n",
       "      <td>Gene</td>\n",
       "      <td>Disease</td>\n",
       "    </tr>\n",
       "    <tr>\n",
       "      <th>XQTL_MULTI_SNP_MR</th>\n",
       "      <td>3,015,233</td>\n",
       "      <td>{'p': {'array': False, 'type': 'FLOAT'}, 'se':...</td>\n",
       "      <td>Gene</td>\n",
       "      <td>Gwas</td>\n",
       "    </tr>\n",
       "    <tr>\n",
       "      <th>XQTL_SINGLE_SNP_MR_GENE_GWAS</th>\n",
       "      <td>8,449,779</td>\n",
       "      <td>{'p': {'array': False, 'type': 'FLOAT'}, 'se':...</td>\n",
       "      <td>Gene</td>\n",
       "      <td>Gwas</td>\n",
       "    </tr>\n",
       "    <tr>\n",
       "      <th>GENE_TO_PROTEIN</th>\n",
       "      <td>19,142</td>\n",
       "      <td>{'_source': {'array': True, 'type': 'LIST'}}</td>\n",
       "      <td>Gene</td>\n",
       "      <td>Protein</td>\n",
       "    </tr>\n",
       "    <tr>\n",
       "      <th>EXPRESSED_IN</th>\n",
       "      <td>2,918,240</td>\n",
       "      <td>{'tpm': {'array': False, 'type': 'FLOAT'}, '_s...</td>\n",
       "      <td>Gene</td>\n",
       "      <td>Tissue</td>\n",
       "    </tr>\n",
       "    <tr>\n",
       "      <th>GWAS_NLP_EFO</th>\n",
       "      <td>12,302</td>\n",
       "      <td>{'score': {'array': False, 'type': 'FLOAT'}, '...</td>\n",
       "      <td>Gwas</td>\n",
       "      <td>Efo</td>\n",
       "    </tr>\n",
       "    <tr>\n",
       "      <th>GWAS_EFO_EBI</th>\n",
       "      <td>281</td>\n",
       "      <td>{'_source': {'array': True, 'type': 'LIST'}}</td>\n",
       "      <td>Gwas</td>\n",
       "      <td>Efo</td>\n",
       "    </tr>\n",
       "    <tr>\n",
       "      <th>PRS</th>\n",
       "      <td>118,124</td>\n",
       "      <td>{'p': {'array': False, 'type': 'FLOAT'}, 'r2':...</td>\n",
       "      <td>Gwas</td>\n",
       "      <td>Gwas</td>\n",
       "    </tr>\n",
       "    <tr>\n",
       "      <th>MR_EVE_MR</th>\n",
       "      <td>25,804,945</td>\n",
       "      <td>{'b': {'array': False, 'type': 'FLOAT'}, 'se':...</td>\n",
       "      <td>Gwas</td>\n",
       "      <td>Gwas</td>\n",
       "    </tr>\n",
       "    <tr>\n",
       "      <th>GEN_COR</th>\n",
       "      <td>840,960</td>\n",
       "      <td>{'h2_intercept_SE': {'array': False, 'type': '...</td>\n",
       "      <td>Gwas</td>\n",
       "      <td>Gwas</td>\n",
       "    </tr>\n",
       "    <tr>\n",
       "      <th>OBS_COR</th>\n",
       "      <td>17,932</td>\n",
       "      <td>{'_source': {'array': True, 'type': 'LIST'}, '...</td>\n",
       "      <td>Gwas</td>\n",
       "      <td>Gwas</td>\n",
       "    </tr>\n",
       "    <tr>\n",
       "      <th>GWAS_NLP</th>\n",
       "      <td>89,239,773</td>\n",
       "      <td>{'score': {'array': False, 'type': 'FLOAT'}, '...</td>\n",
       "      <td>Gwas</td>\n",
       "      <td>Gwas</td>\n",
       "    </tr>\n",
       "    <tr>\n",
       "      <th>GWAS_TO_LITERATURE</th>\n",
       "      <td>28,111,669</td>\n",
       "      <td>{'_source': {'array': True, 'type': 'LIST'}}</td>\n",
       "      <td>Gwas</td>\n",
       "      <td>Literature</td>\n",
       "    </tr>\n",
       "    <tr>\n",
       "      <th>METAMAP_LITE</th>\n",
       "      <td>5,556</td>\n",
       "      <td>{'_source': {'array': True, 'type': 'LIST'}, '...</td>\n",
       "      <td>Gwas</td>\n",
       "      <td>LiteratureTerm</td>\n",
       "    </tr>\n",
       "    <tr>\n",
       "      <th>GWAS_TO_LITERATURE_TRIPLE</th>\n",
       "      <td>17,531,153</td>\n",
       "      <td>{'pval': {'array': False, 'type': 'FLOAT'}, 'g...</td>\n",
       "      <td>Gwas</td>\n",
       "      <td>LiteratureTriple</td>\n",
       "    </tr>\n",
       "    <tr>\n",
       "      <th>OPENGWAS_TOPHITS</th>\n",
       "      <td>160,283</td>\n",
       "      <td>{'_source': {'array': True, 'type': 'LIST'}, '...</td>\n",
       "      <td>Gwas</td>\n",
       "      <td>Variant</td>\n",
       "    </tr>\n",
       "    <tr>\n",
       "      <th>GWAS_TO_VARIANT</th>\n",
       "      <td>26,436</td>\n",
       "      <td>{'se': {'array': False, 'type': 'FLOAT'}, 'nca...</td>\n",
       "      <td>Gwas</td>\n",
       "      <td>Variant</td>\n",
       "    </tr>\n",
       "    <tr>\n",
       "      <th>TERM_TO_GENE</th>\n",
       "      <td>16,435</td>\n",
       "      <td>{'_source': {'array': False, 'type': 'STRING'}}</td>\n",
       "      <td>LiteratureTerm</td>\n",
       "      <td>Gene</td>\n",
       "    </tr>\n",
       "    <tr>\n",
       "      <th>SEMMEDDB_PREDICATE</th>\n",
       "      <td>5,584,547</td>\n",
       "      <td>{'count': {'array': False, 'type': 'INTEGER'},...</td>\n",
       "      <td>LiteratureTerm</td>\n",
       "      <td>LiteratureTerm</td>\n",
       "    </tr>\n",
       "    <tr>\n",
       "      <th>BIORXIV_PREDICATE</th>\n",
       "      <td>32,648</td>\n",
       "      <td>{'count': {'array': False, 'type': 'INTEGER'},...</td>\n",
       "      <td>LiteratureTerm</td>\n",
       "      <td>LiteratureTerm</td>\n",
       "    </tr>\n",
       "    <tr>\n",
       "      <th>MEDRXIV_PREDICATE</th>\n",
       "      <td>1,969</td>\n",
       "      <td>{'count': {'array': False, 'type': 'INTEGER'},...</td>\n",
       "      <td>LiteratureTerm</td>\n",
       "      <td>LiteratureTerm</td>\n",
       "    </tr>\n",
       "    <tr>\n",
       "      <th>BIORXIV_TO_LIT</th>\n",
       "      <td>35,211</td>\n",
       "      <td>{'_source': {'array': True, 'type': 'LIST'}}</td>\n",
       "      <td>LiteratureTriple</td>\n",
       "      <td>Literature</td>\n",
       "    </tr>\n",
       "    <tr>\n",
       "      <th>SEMMEDDB_TO_LIT</th>\n",
       "      <td>10,589,785</td>\n",
       "      <td>{'_source': {'array': True, 'type': 'LIST'}}</td>\n",
       "      <td>LiteratureTriple</td>\n",
       "      <td>Literature</td>\n",
       "    </tr>\n",
       "    <tr>\n",
       "      <th>MEDRXIV_TO_LIT</th>\n",
       "      <td>2,091</td>\n",
       "      <td>{'_source': {'array': True, 'type': 'LIST'}}</td>\n",
       "      <td>LiteratureTriple</td>\n",
       "      <td>Literature</td>\n",
       "    </tr>\n",
       "    <tr>\n",
       "      <th>MEDRXIV_SUB</th>\n",
       "      <td>1,969</td>\n",
       "      <td>{'_source': {'array': True, 'type': 'LIST'}}</td>\n",
       "      <td>LiteratureTriple</td>\n",
       "      <td>LiteratureTerm</td>\n",
       "    </tr>\n",
       "    <tr>\n",
       "      <th>SEMMEDDB_SUB</th>\n",
       "      <td>5,584,547</td>\n",
       "      <td>{'_source': {'array': True, 'type': 'LIST'}}</td>\n",
       "      <td>LiteratureTriple</td>\n",
       "      <td>LiteratureTerm</td>\n",
       "    </tr>\n",
       "    <tr>\n",
       "      <th>MEDRXIV_OBJ</th>\n",
       "      <td>1,969</td>\n",
       "      <td>{'_source': {'array': True, 'type': 'LIST'}}</td>\n",
       "      <td>LiteratureTriple</td>\n",
       "      <td>LiteratureTerm</td>\n",
       "    </tr>\n",
       "    <tr>\n",
       "      <th>BIORXIV_OBJ</th>\n",
       "      <td>32,651</td>\n",
       "      <td>{'_source': {'array': True, 'type': 'LIST'}}</td>\n",
       "      <td>LiteratureTriple</td>\n",
       "      <td>LiteratureTerm</td>\n",
       "    </tr>\n",
       "    <tr>\n",
       "      <th>BIORXIV_SUB</th>\n",
       "      <td>32,657</td>\n",
       "      <td>{'_source': {'array': True, 'type': 'LIST'}}</td>\n",
       "      <td>LiteratureTriple</td>\n",
       "      <td>LiteratureTerm</td>\n",
       "    </tr>\n",
       "    <tr>\n",
       "      <th>SEMMEDDB_OBJ</th>\n",
       "      <td>5,584,547</td>\n",
       "      <td>{'_source': {'array': True, 'type': 'LIST'}}</td>\n",
       "      <td>LiteratureTriple</td>\n",
       "      <td>LiteratureTerm</td>\n",
       "    </tr>\n",
       "    <tr>\n",
       "      <th>PATHWAY_CHILD_OF</th>\n",
       "      <td>2,463</td>\n",
       "      <td>{'_source': {'array': True, 'type': 'LIST'}}</td>\n",
       "      <td>Pathway</td>\n",
       "      <td>Pathway</td>\n",
       "    </tr>\n",
       "    <tr>\n",
       "      <th>PROTEIN_IN_PATHWAY</th>\n",
       "      <td>121,873</td>\n",
       "      <td>{'_source': {'array': True, 'type': 'LIST'}}</td>\n",
       "      <td>Protein</td>\n",
       "      <td>Pathway</td>\n",
       "    </tr>\n",
       "    <tr>\n",
       "      <th>STRING_INTERACT_WITH</th>\n",
       "      <td>827,184</td>\n",
       "      <td>{'score': {'array': False, 'type': 'FLOAT'}, '...</td>\n",
       "      <td>Protein</td>\n",
       "      <td>Protein</td>\n",
       "    </tr>\n",
       "    <tr>\n",
       "      <th>VARIANT_TO_GENE</th>\n",
       "      <td>108,561</td>\n",
       "      <td>{'amino_acids': {'array': False, 'type': 'STRI...</td>\n",
       "      <td>Variant</td>\n",
       "      <td>Gene</td>\n",
       "    </tr>\n",
       "    <tr>\n",
       "      <th>XQTL_SINGLE_SNP_MR_SNP_GENE</th>\n",
       "      <td>41,564</td>\n",
       "      <td>{'_source': {'array': True, 'type': 'LIST'}}</td>\n",
       "      <td>Variant</td>\n",
       "      <td>Gene</td>\n",
       "    </tr>\n",
       "  </tbody>\n",
       "</table>\n",
       "</div>"
      ],
      "text/plain": [
       "                                   count  \\\n",
       "MONDO_MAP_EFO                      2,819   \n",
       "MONDO_MAP_UMLS                     8,247   \n",
       "OPENTARGETS_DRUG_TO_DISEASE        2,461   \n",
       "CPIC                                 375   \n",
       "OPENTARGETS_DRUG_TO_TARGET         6,534   \n",
       "EFO_CHILD_OF                      43,132   \n",
       "GENE_TO_DISEASE                    5,763   \n",
       "XQTL_MULTI_SNP_MR              3,015,233   \n",
       "XQTL_SINGLE_SNP_MR_GENE_GWAS   8,449,779   \n",
       "GENE_TO_PROTEIN                   19,142   \n",
       "EXPRESSED_IN                   2,918,240   \n",
       "GWAS_NLP_EFO                      12,302   \n",
       "GWAS_EFO_EBI                         281   \n",
       "PRS                              118,124   \n",
       "MR_EVE_MR                     25,804,945   \n",
       "GEN_COR                          840,960   \n",
       "OBS_COR                           17,932   \n",
       "GWAS_NLP                      89,239,773   \n",
       "GWAS_TO_LITERATURE            28,111,669   \n",
       "METAMAP_LITE                       5,556   \n",
       "GWAS_TO_LITERATURE_TRIPLE     17,531,153   \n",
       "OPENGWAS_TOPHITS                 160,283   \n",
       "GWAS_TO_VARIANT                   26,436   \n",
       "TERM_TO_GENE                      16,435   \n",
       "SEMMEDDB_PREDICATE             5,584,547   \n",
       "BIORXIV_PREDICATE                 32,648   \n",
       "MEDRXIV_PREDICATE                  1,969   \n",
       "BIORXIV_TO_LIT                    35,211   \n",
       "SEMMEDDB_TO_LIT               10,589,785   \n",
       "MEDRXIV_TO_LIT                     2,091   \n",
       "MEDRXIV_SUB                        1,969   \n",
       "SEMMEDDB_SUB                   5,584,547   \n",
       "MEDRXIV_OBJ                        1,969   \n",
       "BIORXIV_OBJ                       32,651   \n",
       "BIORXIV_SUB                       32,657   \n",
       "SEMMEDDB_OBJ                   5,584,547   \n",
       "PATHWAY_CHILD_OF                   2,463   \n",
       "PROTEIN_IN_PATHWAY               121,873   \n",
       "STRING_INTERACT_WITH             827,184   \n",
       "VARIANT_TO_GENE                  108,561   \n",
       "XQTL_SINGLE_SNP_MR_SNP_GENE       41,564   \n",
       "\n",
       "                                                                     properties  \\\n",
       "MONDO_MAP_EFO                   {'_source': {'array': False, 'type': 'STRING'}}   \n",
       "MONDO_MAP_UMLS                  {'_source': {'array': False, 'type': 'STRING'}}   \n",
       "OPENTARGETS_DRUG_TO_DISEASE        {'_source': {'array': True, 'type': 'LIST'}}   \n",
       "CPIC                          {'pharmgkb_level_of_evidence': {'array': False...   \n",
       "OPENTARGETS_DRUG_TO_TARGET    {'phase': {'array': False, 'type': 'STRING'}, ...   \n",
       "EFO_CHILD_OF                       {'_source': {'array': True, 'type': 'LIST'}}   \n",
       "GENE_TO_DISEASE               {'last_updated': {'array': False, 'type': 'STR...   \n",
       "XQTL_MULTI_SNP_MR             {'p': {'array': False, 'type': 'FLOAT'}, 'se':...   \n",
       "XQTL_SINGLE_SNP_MR_GENE_GWAS  {'p': {'array': False, 'type': 'FLOAT'}, 'se':...   \n",
       "GENE_TO_PROTEIN                    {'_source': {'array': True, 'type': 'LIST'}}   \n",
       "EXPRESSED_IN                  {'tpm': {'array': False, 'type': 'FLOAT'}, '_s...   \n",
       "GWAS_NLP_EFO                  {'score': {'array': False, 'type': 'FLOAT'}, '...   \n",
       "GWAS_EFO_EBI                       {'_source': {'array': True, 'type': 'LIST'}}   \n",
       "PRS                           {'p': {'array': False, 'type': 'FLOAT'}, 'r2':...   \n",
       "MR_EVE_MR                     {'b': {'array': False, 'type': 'FLOAT'}, 'se':...   \n",
       "GEN_COR                       {'h2_intercept_SE': {'array': False, 'type': '...   \n",
       "OBS_COR                       {'_source': {'array': True, 'type': 'LIST'}, '...   \n",
       "GWAS_NLP                      {'score': {'array': False, 'type': 'FLOAT'}, '...   \n",
       "GWAS_TO_LITERATURE                 {'_source': {'array': True, 'type': 'LIST'}}   \n",
       "METAMAP_LITE                  {'_source': {'array': True, 'type': 'LIST'}, '...   \n",
       "GWAS_TO_LITERATURE_TRIPLE     {'pval': {'array': False, 'type': 'FLOAT'}, 'g...   \n",
       "OPENGWAS_TOPHITS              {'_source': {'array': True, 'type': 'LIST'}, '...   \n",
       "GWAS_TO_VARIANT               {'se': {'array': False, 'type': 'FLOAT'}, 'nca...   \n",
       "TERM_TO_GENE                    {'_source': {'array': False, 'type': 'STRING'}}   \n",
       "SEMMEDDB_PREDICATE            {'count': {'array': False, 'type': 'INTEGER'},...   \n",
       "BIORXIV_PREDICATE             {'count': {'array': False, 'type': 'INTEGER'},...   \n",
       "MEDRXIV_PREDICATE             {'count': {'array': False, 'type': 'INTEGER'},...   \n",
       "BIORXIV_TO_LIT                     {'_source': {'array': True, 'type': 'LIST'}}   \n",
       "SEMMEDDB_TO_LIT                    {'_source': {'array': True, 'type': 'LIST'}}   \n",
       "MEDRXIV_TO_LIT                     {'_source': {'array': True, 'type': 'LIST'}}   \n",
       "MEDRXIV_SUB                        {'_source': {'array': True, 'type': 'LIST'}}   \n",
       "SEMMEDDB_SUB                       {'_source': {'array': True, 'type': 'LIST'}}   \n",
       "MEDRXIV_OBJ                        {'_source': {'array': True, 'type': 'LIST'}}   \n",
       "BIORXIV_OBJ                        {'_source': {'array': True, 'type': 'LIST'}}   \n",
       "BIORXIV_SUB                        {'_source': {'array': True, 'type': 'LIST'}}   \n",
       "SEMMEDDB_OBJ                       {'_source': {'array': True, 'type': 'LIST'}}   \n",
       "PATHWAY_CHILD_OF                   {'_source': {'array': True, 'type': 'LIST'}}   \n",
       "PROTEIN_IN_PATHWAY                 {'_source': {'array': True, 'type': 'LIST'}}   \n",
       "STRING_INTERACT_WITH          {'score': {'array': False, 'type': 'FLOAT'}, '...   \n",
       "VARIANT_TO_GENE               {'amino_acids': {'array': False, 'type': 'STRI...   \n",
       "XQTL_SINGLE_SNP_MR_SNP_GENE        {'_source': {'array': True, 'type': 'LIST'}}   \n",
       "\n",
       "                                     from_node           to_node  \n",
       "MONDO_MAP_EFO                          Disease               Efo  \n",
       "MONDO_MAP_UMLS                         Disease    LiteratureTerm  \n",
       "OPENTARGETS_DRUG_TO_DISEASE               Drug           Disease  \n",
       "CPIC                                      Drug              Gene  \n",
       "OPENTARGETS_DRUG_TO_TARGET                Drug              Gene  \n",
       "EFO_CHILD_OF                               Efo               Efo  \n",
       "GENE_TO_DISEASE                           Gene           Disease  \n",
       "XQTL_MULTI_SNP_MR                         Gene              Gwas  \n",
       "XQTL_SINGLE_SNP_MR_GENE_GWAS              Gene              Gwas  \n",
       "GENE_TO_PROTEIN                           Gene           Protein  \n",
       "EXPRESSED_IN                              Gene            Tissue  \n",
       "GWAS_NLP_EFO                              Gwas               Efo  \n",
       "GWAS_EFO_EBI                              Gwas               Efo  \n",
       "PRS                                       Gwas              Gwas  \n",
       "MR_EVE_MR                                 Gwas              Gwas  \n",
       "GEN_COR                                   Gwas              Gwas  \n",
       "OBS_COR                                   Gwas              Gwas  \n",
       "GWAS_NLP                                  Gwas              Gwas  \n",
       "GWAS_TO_LITERATURE                        Gwas        Literature  \n",
       "METAMAP_LITE                              Gwas    LiteratureTerm  \n",
       "GWAS_TO_LITERATURE_TRIPLE                 Gwas  LiteratureTriple  \n",
       "OPENGWAS_TOPHITS                          Gwas           Variant  \n",
       "GWAS_TO_VARIANT                           Gwas           Variant  \n",
       "TERM_TO_GENE                    LiteratureTerm              Gene  \n",
       "SEMMEDDB_PREDICATE              LiteratureTerm    LiteratureTerm  \n",
       "BIORXIV_PREDICATE               LiteratureTerm    LiteratureTerm  \n",
       "MEDRXIV_PREDICATE               LiteratureTerm    LiteratureTerm  \n",
       "BIORXIV_TO_LIT                LiteratureTriple        Literature  \n",
       "SEMMEDDB_TO_LIT               LiteratureTriple        Literature  \n",
       "MEDRXIV_TO_LIT                LiteratureTriple        Literature  \n",
       "MEDRXIV_SUB                   LiteratureTriple    LiteratureTerm  \n",
       "SEMMEDDB_SUB                  LiteratureTriple    LiteratureTerm  \n",
       "MEDRXIV_OBJ                   LiteratureTriple    LiteratureTerm  \n",
       "BIORXIV_OBJ                   LiteratureTriple    LiteratureTerm  \n",
       "BIORXIV_SUB                   LiteratureTriple    LiteratureTerm  \n",
       "SEMMEDDB_OBJ                  LiteratureTriple    LiteratureTerm  \n",
       "PATHWAY_CHILD_OF                       Pathway           Pathway  \n",
       "PROTEIN_IN_PATHWAY                     Protein           Pathway  \n",
       "STRING_INTERACT_WITH                   Protein           Protein  \n",
       "VARIANT_TO_GENE                        Variant              Gene  \n",
       "XQTL_SINGLE_SNP_MR_SNP_GENE            Variant              Gene  "
      ]
     },
     "execution_count": 7,
     "metadata": {},
     "output_type": "execute_result"
    }
   ],
   "source": [
    "meta_rel_df = pd.DataFrame.from_dict(metadata[\"edges\"], orient=\"index\").merge(\n",
    "    pd.DataFrame.from_dict(\n",
    "        {_[\"rel\"]: _ for _ in metadata[\"connections\"]}, orient=\"index\"\n",
    "    )[[\"from_node\", \"to_node\"]],\n",
    "    left_index=True,\n",
    "    right_index=True,\n",
    ")\n",
    "\n",
    "(\n",
    "    meta_rel_df.sort_values(by=[\"from_node\", \"to_node\"]).assign(\n",
    "        count=lambda df: df[\"count\"].apply(lambda x: f\"{x:,}\")\n",
    "    )\n",
    ")"
   ]
  },
  {
   "cell_type": "markdown",
   "id": "informational-indie",
   "metadata": {
    "papermill": {
     "duration": 0.027436,
     "end_time": "2021-03-11T21:57:17.266479",
     "exception": false,
     "start_time": "2021-03-11T21:57:17.239043",
     "status": "completed"
    },
    "tags": []
   },
   "source": [
    "### Schema plot"
   ]
  },
  {
   "cell_type": "markdown",
   "id": "electric-monitor",
   "metadata": {
    "papermill": {
     "duration": 0.013879,
     "end_time": "2021-03-11T21:57:17.303572",
     "exception": false,
     "start_time": "2021-03-11T21:57:17.289693",
     "status": "completed"
    },
    "tags": []
   },
   "source": [
    "We can generate a network diagram of the graph db schema using `networkx`."
   ]
  },
  {
   "cell_type": "code",
   "execution_count": 8,
   "id": "grateful-rapid",
   "metadata": {
    "execution": {
     "iopub.execute_input": "2021-03-11T21:57:17.334896Z",
     "iopub.status.busy": "2021-03-11T21:57:17.334555Z",
     "iopub.status.idle": "2021-03-11T21:57:17.336440Z",
     "shell.execute_reply": "2021-03-11T21:57:17.336112Z"
    },
    "papermill": {
     "duration": 0.019015,
     "end_time": "2021-03-11T21:57:17.336510",
     "exception": false,
     "start_time": "2021-03-11T21:57:17.317495",
     "status": "completed"
    },
    "tags": []
   },
   "outputs": [],
   "source": [
    "graph = nx.from_pandas_edgelist(meta_rel_df, source=\"from_node\", target=\"to_node\")"
   ]
  },
  {
   "cell_type": "code",
   "execution_count": 9,
   "id": "corresponding-recorder",
   "metadata": {
    "execution": {
     "iopub.execute_input": "2021-03-11T21:57:17.369648Z",
     "iopub.status.busy": "2021-03-11T21:57:17.369293Z",
     "iopub.status.idle": "2021-03-11T21:57:17.725280Z",
     "shell.execute_reply": "2021-03-11T21:57:17.725586Z"
    },
    "papermill": {
     "duration": 0.374971,
     "end_time": "2021-03-11T21:57:17.725695",
     "exception": false,
     "start_time": "2021-03-11T21:57:17.350724",
     "status": "completed"
    },
    "tags": []
   },
   "outputs": [
    {
     "data": {
      "image/png": "[encoded data removed]",
      "text/plain": [
       "<Figure size 432x288 with 1 Axes>"
      ]
     },
     "metadata": {},
     "output_type": "display_data"
    }
   ],
   "source": [
    "nx.draw(\n",
    "    G=graph,\n",
    "    pos=nx.kamada_kawai_layout(graph),\n",
    "    with_labels=True,\n",
    "    node_color=\"white\",\n",
    ")"
   ]
  },
  {
   "cell_type": "markdown",
   "id": "standard-invitation",
   "metadata": {
    "papermill": {
     "duration": 0.014706,
     "end_time": "2021-03-11T21:57:17.755309",
     "exception": false,
     "start_time": "2021-03-11T21:57:17.740603",
     "status": "completed"
    },
    "tags": []
   },
   "source": [
    "A detailed version of the shema plot can be obtained from the API:\n",
    "\n",
    "![schema_plot](https://api.epigraphdb.org/meta/schema?graphviz=true&plot=true)"
   ]
  },
  {
   "cell_type": "markdown",
   "id": "fiscal-polyester",
   "metadata": {
    "papermill": {
     "duration": 0.014722,
     "end_time": "2021-03-11T21:57:17.784968",
     "exception": false,
     "start_time": "2021-03-11T21:57:17.770246",
     "status": "completed"
    },
    "tags": []
   },
   "source": [
    "## Search for specific node"
   ]
  },
  {
   "cell_type": "markdown",
   "id": "annual-exhibit",
   "metadata": {
    "papermill": {
     "duration": 0.014831,
     "end_time": "2021-03-11T21:57:17.814685",
     "exception": false,
     "start_time": "2021-03-11T21:57:17.799854",
     "status": "completed"
    },
    "tags": []
   },
   "source": [
    "Users can use [the explorer on the Web UI](http://dev.epigraphdb.org/explore) to search for a specific node by:\n",
    "\n",
    "- fuzzy matching by \"name\" field.\n",
    "- exact matching by \"ID\" field if you know the its ID (e.g. the ID to a GWAS from IEU GWAS Database).\n",
    "\n",
    "Here we show how these are done at the API level using `Gwas` nodes as an example."
   ]
  },
  {
   "cell_type": "markdown",
   "id": "floating-acquisition",
   "metadata": {
    "papermill": {
     "duration": 0.014652,
     "end_time": "2021-03-11T21:57:17.844224",
     "exception": false,
     "start_time": "2021-03-11T21:57:17.829572",
     "status": "completed"
    },
    "tags": []
   },
   "source": [
    "First we need to know what the \"ID\" and \"name\" fields are for the meta nodes using `GET /meta/nodes/id-name-schema`:"
   ]
  },
  {
   "cell_type": "code",
   "execution_count": 10,
   "id": "thirty-syntax",
   "metadata": {
    "execution": {
     "iopub.execute_input": "2021-03-11T21:57:17.878548Z",
     "iopub.status.busy": "2021-03-11T21:57:17.878178Z",
     "iopub.status.idle": "2021-03-11T21:57:17.955926Z",
     "shell.execute_reply": "2021-03-11T21:57:17.955491Z"
    },
    "papermill": {
     "duration": 0.097048,
     "end_time": "2021-03-11T21:57:17.956027",
     "exception": false,
     "start_time": "2021-03-11T21:57:17.858979",
     "status": "completed"
    },
    "tags": []
   },
   "outputs": [
    {
     "data": {
      "text/plain": [
       "{'Disease': {'id': 'id', 'name': 'label'},\n",
       " 'Drug': {'id': 'label', 'name': 'label'},\n",
       " 'Efo': {'id': 'id', 'name': 'value'},\n",
       " 'Gene': {'id': 'ensembl_id', 'name': 'name'},\n",
       " 'Gwas': {'id': 'id', 'name': 'trait'},\n",
       " 'Literature': {'id': 'id', 'name': 'id'},\n",
       " 'LiteratureTerm': {'id': 'id', 'name': 'name'},\n",
       " 'LiteratureTriple': {'id': 'id', 'name': 'name'},\n",
       " 'Pathway': {'id': 'id', 'name': 'name'},\n",
       " 'Protein': {'id': 'uniprot_id', 'name': 'uniprot_id'},\n",
       " 'Tissue': {'id': 'id', 'name': 'name'},\n",
       " 'Variant': {'id': 'name', 'name': 'name'}}"
      ]
     },
     "execution_count": 10,
     "metadata": {},
     "output_type": "execute_result"
    }
   ],
   "source": [
    "r = requests.get(f\"{API_URL}/meta/nodes/id-name-schema\")\n",
    "r.raise_for_status()\n",
    "\n",
    "meta_node_fields = r.json()\n",
    "meta_node_fields"
   ]
  },
  {
   "cell_type": "markdown",
   "id": "increasing-yield",
   "metadata": {
    "papermill": {
     "duration": 0.019652,
     "end_time": "2021-03-11T21:57:17.995701",
     "exception": false,
     "start_time": "2021-03-11T21:57:17.976049",
     "status": "completed"
    },
    "tags": []
   },
   "source": [
    "### Fuzzy matching"
   ]
  },
  {
   "cell_type": "markdown",
   "id": "statutory-feedback",
   "metadata": {
    "papermill": {
     "duration": 0.023065,
     "end_time": "2021-03-11T21:57:18.038449",
     "exception": false,
     "start_time": "2021-03-11T21:57:18.015384",
     "status": "completed"
    },
    "tags": []
   },
   "source": [
    "Here we search for nodes can contain \"body mass index\" in their traits."
   ]
  },
  {
   "cell_type": "code",
   "execution_count": 11,
   "id": "tested-bottle",
   "metadata": {
    "execution": {
     "iopub.execute_input": "2021-03-11T21:57:18.086772Z",
     "iopub.status.busy": "2021-03-11T21:57:18.086381Z",
     "iopub.status.idle": "2021-03-11T21:57:18.190088Z",
     "shell.execute_reply": "2021-03-11T21:57:18.190418Z"
    },
    "papermill": {
     "duration": 0.132355,
     "end_time": "2021-03-11T21:57:18.190519",
     "exception": false,
     "start_time": "2021-03-11T21:57:18.058164",
     "status": "completed"
    },
    "tags": []
   },
   "outputs": [
    {
     "name": "stdout",
     "output_type": "stream",
     "text": [
      "{'metadata': {'empty_results': False,\n",
      "              'query': 'MATCH (node: Gwas) WHERE node.trait =~ \"(?i).*body '\n",
      "                       'mass index.*\" RETURN node LIMIT 10;',\n",
      "              'total_seconds': 0.020673},\n",
      " 'results': [{'node': {'_id': 'ieu-a-1089',\n",
      "                       '_name': 'Body mass index',\n",
      "                       '_source': ['OpenGWAS-2020-10-13'],\n",
      "                       'author': 'Wood',\n",
      "                       'build': 'HG19/GRCh37',\n",
      "                       'category': 'Risk factor',\n",
      "                       'id': 'ieu-a-1089',\n",
      "                       'mr': '0',\n",
      "                       'note': 'Dominance model? If so then not necessarily of '\n",
      "                               'value for MR; Results from interim Biobank '\n",
      "                               'release enriched for smokers; could lead to '\n",
      "                               'bias through collider issues in MR',\n",
      "                       'nsnp': '8654252',\n",
      "                       'pmid': '26961502.0',\n",
      "                       'population': 'European',\n",
      "                       'sample_size': '120286.0',\n",
      "                       'sex': 'Males and Females',\n",
      "                       'subcategory': 'Anthropometric',\n",
      "                       'trait': 'Body mass index',\n",
      "                       'year': '2016.0'}},\n",
      "             {'node': {'_id': 'ieu-a-974',\n",
      "                       '_name': 'Body mass index',\n",
      "                       '_source': ['OpenGWAS-2020-10-13'],\n",
      "                       'author': 'Locke AE',\n",
      "                       'build': 'HG19/GRCh37',\n",
      "                       'category': 'Risk factor',\n",
      "                       'id': 'ieu-a-974',\n",
      "                       'mr': '1',\n",
      "                       'nsnp': '2494613',\n",
      "                       'pmid': '25673413.0',\n",
      "                       'population': 'European',\n",
      "                       'sample_size': '171977.0',\n",
      "                       'sd': '4.77',\n",
      "                       'sex': 'Females',\n",
      "                       'subcategory': 'Anthropometric',\n",
      "                       'trait': 'Body mass index',\n",
      "                       'year': '2015.0'}},\n",
      "             {'node': {'_id': 'ieu-a-95',\n",
      "                       '_name': 'Body mass index',\n",
      "                       '_source': ['OpenGWAS-2020-10-13'],\n",
      "                       'author': 'Randall JC',\n",
      "                       'build': 'HG19/GRCh37',\n",
      "                       'category': 'Risk factor',\n",
      "                       'id': 'ieu-a-95',\n",
      "                       'mr': '1',\n",
      "                       'nsnp': '2736876',\n",
      "                       'pmid': '23754948.0',\n",
      "                       'population': 'European',\n",
      "                       'sample_size': '73137.0',\n",
      "                       'sd': '4.77',\n",
      "                       'sex': 'Females',\n",
      "                       'subcategory': 'Anthropometric',\n",
      "                       'trait': 'Body mass index',\n",
      "                       'year': '2013.0'}},\n",
      "             {'node': {'_id': 'ebi-a-GCST004904',\n",
      "                       '_name': 'Body mass index',\n",
      "                       '_source': ['OpenGWAS-2020-\n"
     ]
    }
   ],
   "source": [
    "name = \"body mass index\"\n",
    "\n",
    "r = requests.get(f\"{API_URL}/meta/nodes/Gwas/search\", params={\"name\": name})\n",
    "r.raise_for_status()\n",
    "\n",
    "print(pformat(r.json())[:3000])"
   ]
  },
  {
   "cell_type": "markdown",
   "id": "common-draft",
   "metadata": {
    "papermill": {
     "duration": 0.01514,
     "end_time": "2021-03-11T21:57:18.221315",
     "exception": false,
     "start_time": "2021-03-11T21:57:18.206175",
     "status": "completed"
    },
    "tags": []
   },
   "source": [
    "### Exact matching"
   ]
  },
  {
   "cell_type": "markdown",
   "id": "thousand-listing",
   "metadata": {
    "papermill": {
     "duration": 0.015074,
     "end_time": "2021-03-11T21:57:18.251678",
     "exception": false,
     "start_time": "2021-03-11T21:57:18.236604",
     "status": "completed"
    },
    "tags": []
   },
   "source": [
    "Similarly, we can exact match a specific node by its ID."
   ]
  },
  {
   "cell_type": "code",
   "execution_count": 12,
   "id": "challenging-offering",
   "metadata": {
    "execution": {
     "iopub.execute_input": "2021-03-11T21:57:18.288612Z",
     "iopub.status.busy": "2021-03-11T21:57:18.288268Z",
     "iopub.status.idle": "2021-03-11T21:57:18.395153Z",
     "shell.execute_reply": "2021-03-11T21:57:18.394609Z"
    },
    "papermill": {
     "duration": 0.12833,
     "end_time": "2021-03-11T21:57:18.395287",
     "exception": false,
     "start_time": "2021-03-11T21:57:18.266957",
     "status": "completed"
    },
    "tags": []
   },
   "outputs": [
    {
     "name": "stdout",
     "output_type": "stream",
     "text": [
      "{'metadata': {'empty_results': False,\n",
      "              'query': 'MATCH (node: Gwas {id: \"ieu-a-2\"}) RETURN node LIMIT '\n",
      "                       '10;',\n",
      "              'total_seconds': 0.015746},\n",
      " 'results': [{'node': {'_id': 'ieu-a-2',\n",
      "                       '_name': 'Body mass index',\n",
      "                       '_source': ['OpenGWAS-2020-10-13'],\n",
      "                       'author': 'Locke AE',\n",
      "                       'build': 'HG19/GRCh37',\n",
      "                       'category': 'Risk factor',\n",
      "                       'id': 'ieu-a-2',\n",
      "                       'mr': '1',\n",
      "                       'nsnp': '2555511',\n",
      "                       'pmid': '25673413.0',\n",
      "                       'population': 'Mixed',\n",
      "                       'sample_size': '339224.0',\n",
      "                       'sd': '4.77',\n",
      "                       'sex': 'Males and Females',\n",
      "                       'subcategory': 'Anthropometric',\n",
      "                       'trait': 'Body mass index',\n",
      "                       'year': '2015.0'}}]}\n"
     ]
    }
   ],
   "source": [
    "id = \"ieu-a-2\"\n",
    "\n",
    "r = requests.get(f\"{API_URL}/meta/nodes/Gwas/search\", params={\"id\": id})\n",
    "r.raise_for_status()\n",
    "\n",
    "print(pformat(r.json())[:3000])"
   ]
  },
  {
   "cell_type": "markdown",
   "id": "vietnamese-companion",
   "metadata": {
    "papermill": {
     "duration": 0.029387,
     "end_time": "2021-03-11T21:57:18.454753",
     "exception": false,
     "start_time": "2021-03-11T21:57:18.425366",
     "status": "completed"
    },
    "tags": []
   },
   "source": [
    "## Cypher (advanced)"
   ]
  },
  {
   "cell_type": "markdown",
   "id": "proper-fantasy",
   "metadata": {
    "papermill": {
     "duration": 0.015467,
     "end_time": "2021-03-11T21:57:18.498294",
     "exception": false,
     "start_time": "2021-03-11T21:57:18.482827",
     "status": "completed"
    },
    "tags": []
   },
   "source": [
    "Advanced users that are familiar with Neo4j Cypher can query the database using Cypher directly."
   ]
  },
  {
   "cell_type": "code",
   "execution_count": 13,
   "id": "incorporated-salem",
   "metadata": {
    "execution": {
     "iopub.execute_input": "2021-03-11T21:57:18.536406Z",
     "iopub.status.busy": "2021-03-11T21:57:18.536061Z",
     "iopub.status.idle": "2021-03-11T21:57:18.624482Z",
     "shell.execute_reply": "2021-03-11T21:57:18.624751Z"
    },
    "papermill": {
     "duration": 0.110974,
     "end_time": "2021-03-11T21:57:18.624845",
     "exception": false,
     "start_time": "2021-03-11T21:57:18.513871",
     "status": "completed"
    },
    "tags": []
   },
   "outputs": [
    {
     "name": "stdout",
     "output_type": "stream",
     "text": [
      "{'metadata': {'empty_results': False,\n",
      "              'query': 'MATCH (exposure:Gwas)-[mr:MR_EVE_MR]->(outcome:Gwas) '\n",
      "                       'WHERE exposure.trait = \"Body mass index\" RETURN '\n",
      "                       'exposure, outcome, mr LIMIT 2',\n",
      "              'total_seconds': 0.010809},\n",
      " 'results': [{'exposure': {'_id': 'ieu-a-974',\n",
      "                           '_name': 'Body mass index',\n",
      "                           '_source': ['OpenGWAS-2020-10-13'],\n",
      "                           'author': 'Locke AE',\n",
      "                           'build': 'HG19/GRCh37',\n",
      "                           'category': 'Risk factor',\n",
      "                           'id': 'ieu-a-974',\n",
      "                           'mr': '1',\n",
      "                           'nsnp': '2494613',\n",
      "                           'pmid': '25673413.0',\n",
      "                           'population': 'European',\n",
      "                           'sample_size': '171977.0',\n",
      "                           'sd': '4.77',\n",
      "                           'sex': 'Females',\n",
      "                           'subcategory': 'Anthropometric',\n",
      "                           'trait': 'Body mass index',\n",
      "                           'year': '2015.0'},\n",
      "              'mr': {'_source': ['MR-EvE-2021-03-10'],\n",
      "                     'b': 0.0289678834636601,\n",
      "                     'ci_low': -0.165265753333202,\n",
      "                     'ci_upp': 0.22320152026052198,\n",
      "                     'method': 'Simple mean',\n",
      "                     'moescore': 0.77,\n",
      "                     'nsnp': 37,\n",
      "                     'pval': 0.771725286643359,\n",
      "                     'se': 0.0990987942841133,\n",
      "                     'selection': 'HF'},\n",
      "              'outcome': {'_id': 'prot-a-1729',\n",
      "                          '_name': 'Galectin-7',\n",
      "                          '_source': ['OpenGWAS-2020-10-13'],\n",
      "                          'author': 'Sun BB',\n",
      "                          'build': 'HG19/GRCh37',\n",
      "                          'category': 'Immune system',\n",
      "                          'id': 'prot-a-1729',\n",
      "                          'mr': '1',\n",
      "                          'nsnp': '10534735',\n",
      "                          'pmid': '29875488.0',\n",
      "                          'population': 'European',\n",
      "                          'sample_size': '3301.0',\n",
      "                          'sex': 'Males and Females',\n",
      "                          'subcategory': 'Protein',\n",
      "                          'trait': 'Galectin-7',\n",
      "                          'year': '2018.0'}},\n",
      "             {'exposure': {'_id': 'ieu-a-974',\n",
      "                           '_name': 'Body mass index',\n",
      "                           '_source': ['OpenGWAS-2020-10-13'],\n",
      "                           'author': 'Locke AE',\n",
      "                           'build': 'HG19/GRCh37',\n",
      "                           'category': 'Risk factor',\n",
      "                           'id': 'ieu-a-974',\n",
      "                           'mr': '1',\n",
      "                           'nsnp': '2494613',\n",
      "                           'pmid': '25673413.0',\n",
      "                           'population': 'European',\n",
      "                           'sample_size': '171977.0',\n",
      "    \n"
     ]
    }
   ],
   "source": [
    "query = \"\"\"\n",
    "    MATCH (exposure:Gwas)-[mr:MR_EVE_MR]->(outcome:Gwas) \n",
    "    WHERE exposure.trait = \"Body mass index\"\n",
    "    RETURN exposure, outcome, mr LIMIT 2\n",
    "\"\"\"\n",
    "\n",
    "r = requests.post(f\"{API_URL}/cypher\", json={\"query\": query})\n",
    "r.raise_for_status()\n",
    "\n",
    "print(pformat(r.json())[:3000])"
   ]
  },
  {
   "cell_type": "markdown",
   "id": "defined-guinea",
   "metadata": {
    "papermill": {
     "duration": 0.020409,
     "end_time": "2021-03-11T21:57:18.666119",
     "exception": false,
     "start_time": "2021-03-11T21:57:18.645710",
     "status": "completed"
    },
    "tags": []
   },
   "source": [
    "Again for the detailed documentation on the API endpoints please visit:\n",
    "\n",
    "- The Swagger interface: http://api.epigraphdb.org\n",
    "- The sections regarding API endpoints on the documentation site: http://docs.epigraphdb.org/api/api-endpoints/"
   ]
  }
 ],
 "metadata": {
  "kernelspec": {
   "display_name": "Python 3",
   "language": "python",
   "name": "python3"
  },
  "language_info": {
   "codemirror_mode": {
    "name": "ipython",
    "version": 3
   },
   "file_extension": ".py",
   "mimetype": "text/x-python",
   "name": "python",
   "nbconvert_exporter": "python",
   "pygments_lexer": "ipython3",
   "version": "3.7.7"
  },
  "papermill": {
   "default_parameters": {},
   "duration": 3.765894,
   "end_time": "2021-03-11T21:57:18.991517",
   "environment_variables": {},
   "exception": null,
   "input_path": "general-examples/platform-meta-functionalities.ipynb",
   "output_path": "general-examples/platform-meta-functionalities.ipynb",
   "parameters": {
    "API_URL": "http://dev-api.epigraphdb.org"
   },
   "start_time": "2021-03-11T21:57:15.225623",
   "version": "2.3.3"
  },
  "toc-autonumbering": false
 },
 "nbformat": 4,
 "nbformat_minor": 5
}
